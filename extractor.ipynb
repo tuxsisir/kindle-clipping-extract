{
 "cells": [
  {
   "cell_type": "markdown",
   "metadata": {},
   "source": [
    "### Extract Data from kindle's MyClippings.txt\n",
    "---\n",
    "- [Generate ipynb files](#Generate-IPYNB-Files)\n",
    "- [Generate markdown string](#Generate-Markdown-String)\n",
    "- [View in Tabular format](#Tabular-HTML-Format)"
   ]
  },
  {
   "cell_type": "code",
   "execution_count": 1,
   "metadata": {},
   "outputs": [],
   "source": [
    "import json\n",
    "from IPython.display import HTML, display\n",
    "from tabulate import tabulate\n",
    "\n",
    "empty_contents = 'empty_notebook.json'\n",
    "my_clippings = \"My Clippings - Kindle.txt\" # path to your clippings\n",
    "\n",
    "raw_file = open(my_clippings, \"r\")"
   ]
  },
  {
   "cell_type": "code",
   "execution_count": 2,
   "metadata": {},
   "outputs": [],
   "source": [
    "def parse_empty_notebook():\n",
    "    \"\"\"\n",
    "    parse the json in order to write the ipynb\n",
    "    \"\"\"\n",
    "    with open(empty_contents) as json_file:\n",
    "        data = json.load(json_file)\n",
    "    return data"
   ]
  },
  {
   "cell_type": "code",
   "execution_count": 3,
   "metadata": {},
   "outputs": [],
   "source": [
    "def prepare_dict_data():\n",
    "    \"\"\"\n",
    "    preapres the raw data from file content to dict for easy manipulation.\n",
    "    \"\"\"\n",
    "    block_dict = {}  # our manipulated dict of books with its highlights / notes\n",
    "    block_container = []  # append lines of the blocks\n",
    "    for x in raw_file:\n",
    "        block_container.append(x)\n",
    "        if x.startswith('==='):\n",
    "            book_name = block_container.pop(0)\n",
    "            if book_name not in block_dict.keys():\n",
    "                block_dict[book_name] = [block_container]\n",
    "            else:\n",
    "                existing_content = block_dict[book_name]\n",
    "                existing_content.append(block_container)\n",
    "            block_container = []\n",
    "    return block_dict\n",
    "\n",
    "book_dict_data = prepare_dict_data()"
   ]
  },
  {
   "cell_type": "code",
   "execution_count": 4,
   "metadata": {},
   "outputs": [],
   "source": [
    "def write_ipynb(content, book_name):\n",
    "    \"\"\"\n",
    "    writes ipynb file\n",
    "    \"\"\"\n",
    "    json_content = json.dumps(content, ensure_ascii=False, indent=2)\n",
    "    f = open(f\"book_extracts/{book_name}.ipynb\", \"w+\")\n",
    "    f.write(json_content)\n",
    "    f.close()"
   ]
  },
  {
   "cell_type": "markdown",
   "metadata": {},
   "source": [
    "### Generate IPYNB Files\n",
    "---"
   ]
  },
  {
   "cell_type": "code",
   "execution_count": 5,
   "metadata": {},
   "outputs": [],
   "source": [
    "for book_name, val in book_dict_data.items():\n",
    "    \"\"\"\n",
    "    loops over manipulated data to achieve the goal\n",
    "    \"\"\"\n",
    "    file_content = parse_empty_notebook()\n",
    "    source = file_content[\"cells\"][0][\"source\"]\n",
    "    heading = \"# \" + book_name\n",
    "    source.extend([heading, '\\n'])\n",
    "    for a in val:\n",
    "        highlighted_text = '> ' + a[2] + '\\n\\n'\n",
    "        source.extend([highlighted_text, '\\n', '\\n'])\n",
    "        timestamp = a[0].strip('- ')\n",
    "        a = timestamp.split('|')\n",
    "        page_no = a[0].split(' ')[-2]\n",
    "        highlight_time = a[-1]\n",
    "        source.append(f\"<sup>Page: {page_no} - {highlight_time} </sup>\")  # timestamp\n",
    "        source.extend(['\\n', '\\n', '---', '\\n', '\\n'])\n",
    "    write_ipynb(file_content, book_name)"
   ]
  },
  {
   "cell_type": "markdown",
   "metadata": {},
   "source": [
    "### Generate Markdown String\n",
    "---"
   ]
  },
  {
   "cell_type": "code",
   "execution_count": 6,
   "metadata": {},
   "outputs": [],
   "source": [
    "block_container = []  # append lines of the blocks\n",
    "for x in raw_file:\n",
    "    block_container.append(x)\n",
    "    if x.startswith('==='):\n",
    "        book_name = block_container.pop(0)\n",
    "        if book_name not in block_dict.keys():\n",
    "            block_dict[book_name] = [block_container]\n",
    "        else:\n",
    "            existing_content = block_dict[book_name]\n",
    "            existing_content.append(block_container)\n",
    "        block_container = []\n",
    "raw_file.close()\n",
    "markdown = \"\"\n",
    "for key, val in book_dict_data.items():\n",
    "    heading = \"#### \" + key\n",
    "    markdown += heading\n",
    "    markdown += '\\n\\n'\n",
    "    for a in val:\n",
    "        markdown += '> ' + a[2] + '\\n\\n'\n",
    "        markdown += a[0]\n",
    "        markdown += '\\n\\n\\n'"
   ]
  },
  {
   "cell_type": "markdown",
   "metadata": {},
   "source": [
    "### Code cell to view markdown\n",
    "---"
   ]
  },
  {
   "cell_type": "code",
   "execution_count": 7,
   "metadata": {},
   "outputs": [
    {
     "data": {
      "text/markdown": [
       "#### Deep Work (Cal Newport)\n",
       "\n",
       "\n",
       "> Twain’s study was so isolated from the main house that his family took to blowing a horn to attract his attention for meals.\n",
       "\n",
       "\n",
       "- Your Highlight on Location 45-46 | Added on Friday, November 8, 2019 9:38:50 AM\n",
       "\n",
       "\n",
       "\n",
       "#### How to Win Friends and Influence People (Dale Carnegie)\n",
       "\n",
       "\n",
       "> Filled with energy\n",
       "\n",
       "\n",
       "- Your Note on page 7 | Location 93 | Added on Monday, April 27, 2020 3:48:21 PM\n",
       "\n",
       "\n",
       "\n",
       "> Don’t criticize, condemn or complain.\n",
       "\n",
       "\n",
       "- Your Highlight on page 32 | Location 479-479 | Added on Tuesday, December 10, 2019 2:30:36 PM\n",
       "\n",
       "\n",
       "\n",
       "#### Clean Agile: Back to Basics (Robert C. Martin)\n",
       "\n",
       "\n",
       "> The most honest estimate is “I don’t know.”\n",
       "\n",
       "\n",
       "- Your Highlight on page 104 | Location 1587-1588 | Added on Monday, March 16, 2020 10:00:36 PM\n",
       "\n",
       "\n",
       "\n",
       "> And besides, humans are not machines. Asking humans to do what machines can do is expensive, inefficient, and immoral.\n",
       "\n",
       "\n",
       "- Your Highlight on page 102 | Location 1562-1563 | Added on Monday, March 16, 2020 9:31:36 PM\n",
       "\n",
       "\n",
       "\n"
      ],
      "text/plain": [
       "<IPython.core.display.Markdown object>"
      ]
     },
     "execution_count": 7,
     "metadata": {},
     "output_type": "execute_result"
    }
   ],
   "source": [
    "from IPython.display import Markdown as md\n",
    "md(markdown)"
   ]
  },
  {
   "cell_type": "markdown",
   "metadata": {},
   "source": [
    "### Tabular HTML Format\n",
    "---"
   ]
  },
  {
   "cell_type": "code",
   "execution_count": 8,
   "metadata": {},
   "outputs": [
    {
     "data": {
      "text/html": [
       "<table>\n",
       "<thead>\n",
       "<tr><th>Book                                                   </th><th>Time                                                                                           </th><th>Empty Col  </th><th>Content                                                                                                                     </th></tr>\n",
       "</thead>\n",
       "<tbody>\n",
       "<tr><td>Deep Work (Cal Newport)                                </td><td>- Your Highlight on Location 45-46 | Added on Friday, November 8, 2019 9:38:50 AM              </td><td>           </td><td>Twain’s study was so isolated from the main house that his family took to blowing a horn to attract his attention for meals.</td></tr>\n",
       "<tr><td>How to Win Friends and Influence People (Dale Carnegie)</td><td>- Your Note on page 7 | Location 93 | Added on Monday, April 27, 2020 3:48:21 PM               </td><td>           </td><td>Filled with energy                                                                                                          </td></tr>\n",
       "<tr><td>Clean Agile: Back to Basics (Robert C. Martin)         </td><td>- Your Highlight on page 104 | Location 1587-1588 | Added on Monday, March 16, 2020 10:00:36 PM</td><td>           </td><td>The most honest estimate is “I don’t know.”                                                                                 </td></tr>\n",
       "<tr><td>Clean Agile: Back to Basics (Robert C. Martin)         </td><td>- Your Highlight on page 102 | Location 1562-1563 | Added on Monday, March 16, 2020 9:31:36 PM </td><td>           </td><td>And besides, humans are not machines. Asking humans to do what machines can do is expensive, inefficient, and immoral.      </td></tr>\n",
       "<tr><td>How to Win Friends and Influence People (Dale Carnegie)</td><td>- Your Highlight on page 32 | Location 479-479 | Added on Tuesday, December 10, 2019 2:30:36 PM</td><td>           </td><td>Don’t criticize, condemn or complain.                                                                                       </td></tr>\n",
       "</tbody>\n",
       "</table>"
      ],
      "text/plain": [
       "<IPython.core.display.HTML object>"
      ]
     },
     "metadata": {},
     "output_type": "display_data"
    }
   ],
   "source": [
    "last_line = ''\n",
    "block_list = []\n",
    "block_dict = {}\n",
    "\n",
    "block_container = []  # append lines of the blocks\n",
    "raw_file = open(my_clippings, \"r\")\n",
    "for x in raw_file:\n",
    "    block_container.append(x)\n",
    "    if x.startswith('==='):\n",
    "        block_container.pop()\n",
    "        block_list.append(block_container)\n",
    "        block_container = []\n",
    "headers = ['Book', 'Time', 'Empty Col', 'Content']\n",
    "display(HTML(tabulate(block_list, headers, tablefmt=\"html\", stralign=\"left\")))\n",
    "raw_file.close()"
   ]
  },
  {
   "cell_type": "code",
   "execution_count": null,
   "metadata": {},
   "outputs": [],
   "source": []
  }
 ],
 "metadata": {
  "kernelspec": {
   "display_name": "Python 3",
   "language": "python",
   "name": "python3"
  },
  "language_info": {
   "codemirror_mode": {
    "name": "ipython",
    "version": 3
   },
   "file_extension": ".py",
   "mimetype": "text/x-python",
   "name": "python",
   "nbconvert_exporter": "python",
   "pygments_lexer": "ipython3",
   "version": "3.6.4"
  }
 },
 "nbformat": 4,
 "nbformat_minor": 4
}
