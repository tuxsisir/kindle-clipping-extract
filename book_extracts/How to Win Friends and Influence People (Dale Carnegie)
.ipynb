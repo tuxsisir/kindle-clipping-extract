{
  "cells": [
    {
      "cell_type": "markdown",
      "metadata": {},
      "source": [
        "# How to Win Friends and Influence People (Dale Carnegie)\n",
        "\n",
        "> Filled with energy\n\n\n",
        "\n",
        "\n",
        "<sup>Page: 7 -  Added on Monday, April 27, 2020 3:48:21 PM\n </sup>",
        "\n",
        "\n",
        "---",
        "\n",
        "\n",
        "> Don’t criticize, condemn or complain.\n\n\n",
        "\n",
        "\n",
        "<sup>Page: 32 -  Added on Tuesday, December 10, 2019 2:30:36 PM\n </sup>",
        "\n",
        "\n",
        "---",
        "\n",
        "\n"
      ]
    },
    {
      "cell_type": "code",
      "execution_count": 0,
      "metadata": {},
      "outputs": [],
      "source": []
    }
  ],
  "metadata": {
    "kernelspec": {
      "display_name": "Python 3",
      "language": "python",
      "name": "python3"
    },
    "language_info": {
      "codemirror_mode": {
        "name": "ipython",
        "version": 3
      },
      "file_extension": ".py",
      "mimetype": "text/x-python",
      "name": "python",
      "nbconvert_exporter": "python",
      "pygments_lexer": "ipython3",
      "version": "3.6.4"
    }
  },
  "nbformat": 4,
  "nbformat_minor": 4
}