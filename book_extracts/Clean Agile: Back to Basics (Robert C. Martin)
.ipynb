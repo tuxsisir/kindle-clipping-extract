{
  "cells": [
    {
      "cell_type": "markdown",
      "metadata": {},
      "source": [
        "# Clean Agile: Back to Basics (Robert C. Martin)\n",
        "\n",
        "> The most honest estimate is “I don’t know.”\n\n\n",
        "\n",
        "\n",
        "<sup>Page: 104 -  Added on Monday, March 16, 2020 10:00:36 PM\n </sup>",
        "\n",
        "\n",
        "---",
        "\n",
        "\n",
        "> And besides, humans are not machines. Asking humans to do what machines can do is expensive, inefficient, and immoral.\n\n\n",
        "\n",
        "\n",
        "<sup>Page: 102 -  Added on Monday, March 16, 2020 9:31:36 PM\n </sup>",
        "\n",
        "\n",
        "---",
        "\n",
        "\n"
      ]
    },
    {
      "cell_type": "code",
      "execution_count": 0,
      "metadata": {},
      "outputs": [],
      "source": []
    }
  ],
  "metadata": {
    "kernelspec": {
      "display_name": "Python 3",
      "language": "python",
      "name": "python3"
    },
    "language_info": {
      "codemirror_mode": {
        "name": "ipython",
        "version": 3
      },
      "file_extension": ".py",
      "mimetype": "text/x-python",
      "name": "python",
      "nbconvert_exporter": "python",
      "pygments_lexer": "ipython3",
      "version": "3.6.4"
    }
  },
  "nbformat": 4,
  "nbformat_minor": 4
}