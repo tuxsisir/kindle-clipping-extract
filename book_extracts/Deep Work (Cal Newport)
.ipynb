{
  "cells": [
    {
      "cell_type": "markdown",
      "metadata": {},
      "source": [
        "# Deep Work (Cal Newport)\n",
        "\n",
        "> Twain’s study was so isolated from the main house that his family took to blowing a horn to attract his attention for meals.\n\n\n",
        "\n",
        "\n",
        "<sup>Page: 45-46 -  Added on Friday, November 8, 2019 9:38:50 AM\n </sup>",
        "\n",
        "\n",
        "---",
        "\n",
        "\n"
      ]
    },
    {
      "cell_type": "code",
      "execution_count": 0,
      "metadata": {},
      "outputs": [],
      "source": []
    }
  ],
  "metadata": {
    "kernelspec": {
      "display_name": "Python 3",
      "language": "python",
      "name": "python3"
    },
    "language_info": {
      "codemirror_mode": {
        "name": "ipython",
        "version": 3
      },
      "file_extension": ".py",
      "mimetype": "text/x-python",
      "name": "python",
      "nbconvert_exporter": "python",
      "pygments_lexer": "ipython3",
      "version": "3.6.4"
    }
  },
  "nbformat": 4,
  "nbformat_minor": 4
}